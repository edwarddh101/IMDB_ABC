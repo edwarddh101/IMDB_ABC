{
 "cells": [
  {
   "cell_type": "code",
   "execution_count": 1,
   "metadata": {
    "collapsed": true
   },
   "outputs": [],
   "source": [
    "import imdb"
   ]
  },
  {
   "cell_type": "code",
   "execution_count": 2,
   "metadata": {
    "collapsed": true
   },
   "outputs": [],
   "source": [
    "imdb_access = imdb.IMDb()"
   ]
  },
  {
   "cell_type": "code",
   "execution_count": 3,
   "metadata": {
    "collapsed": false
   },
   "outputs": [
    {
     "data": {
      "text/plain": [
       "<Company id:0000001[http] name:_Panorama Video_>"
      ]
     },
     "execution_count": 3,
     "metadata": {},
     "output_type": "execute_result"
    }
   ],
   "source": [
    "imdb_access.get_company(1)"
   ]
  },
  {
   "cell_type": "markdown",
   "metadata": {},
   "source": [
    "## Example:"
   ]
  },
  {
   "cell_type": "code",
   "execution_count": 5,
   "metadata": {
    "collapsed": false
   },
   "outputs": [],
   "source": [
    "i = imdb.IMDb()"
   ]
  },
  {
   "cell_type": "code",
   "execution_count": 6,
   "metadata": {
    "collapsed": true
   },
   "outputs": [],
   "source": [
    "# movie_list is a list of Movie objects, with only attributes like 'title'\n",
    "# and 'year' defined.\n",
    "movie_list = i.search_movie('the passion')"
   ]
  },
  {
   "cell_type": "code",
   "execution_count": 7,
   "metadata": {
    "collapsed": true
   },
   "outputs": [],
   "source": [
    "# the first movie in the list.\n",
    "first_match = movie_list[0]"
   ]
  },
  {
   "cell_type": "code",
   "execution_count": 8,
   "metadata": {
    "collapsed": false
   },
   "outputs": [
    {
     "name": "stdout",
     "output_type": "stream",
     "text": [
      "Movie\n",
      "=====\n",
      "Title: Passion of the Christ, The (2004)\n",
      "\n"
     ]
    }
   ],
   "source": [
    "# only basic information like the title will be printed.\n",
    "print first_match.summary()"
   ]
  },
  {
   "cell_type": "code",
   "execution_count": 9,
   "metadata": {
    "collapsed": true
   },
   "outputs": [],
   "source": [
    "# update the information for this movie.\n",
    "i.update(first_match)"
   ]
  },
  {
   "cell_type": "code",
   "execution_count": 10,
   "metadata": {
    "collapsed": false
   },
   "outputs": [
    {
     "name": "stdout",
     "output_type": "stream",
     "text": [
      "Movie\n",
      "=====\n",
      "Title: Passion of the Christ, The (2004)\n",
      "Genres: Drama.\n",
      "Director: Mel Gibson.\n",
      "Writer: Benedict Fitzgerald, Mel Gibson.\n",
      "Cast: Jim Caviezel (Jesus), Maia Morgenstern (Mary), Christo Jivkov (John), Francesco De Vito (Peter), Monica Bellucci (Magdalen).\n",
      "Runtime: 127, 120::(cut).\n",
      "Country: USA.\n",
      "Language: Aramaic, Latin, Hebrew.\n",
      "Rating: 7.1 (176909 votes).\n",
      "Plot: A depiction of the last twelve hours in the life of Jesus of Nazareth, on the day of his crucifixion in Jerusalem. The story opens in the Garden of Olives where Jesus has gone to pray after the Last Supper. Betrayed by Judas Iscariot, the controversial Jesus--who has performed 'miracles' and has publicly announced that he is 'the Son of God'--is arrested and taken back within the city walls of Jerusalem. There, the leaders of the Pharisees confront him with accusations of blasphemy; subsequently, his trial results with the leaders condemning him to his death. Jesus is brought before Pontius Pilate, the Roman Governor of Palestine, for his sentencing. Pilate listens to the accusations leveled at Jesus by the Pharisees. Realizing that his own decision will cause him to become embroiled in a political conflict, Pilate defers to King Herod in deciding the matter of how to persecute Jesus. However, Herod returns Jesus to Pilate who, in turn, gives the crowd a choice between which prisoner they would rather to see set free--Jesus, or Barrabas. The crowd chooses to have Barrabas set free. Thus, Jesus is handed over to the Roman soldiers and is brutally flagellated. Bloody and unrecognizable, he is brought back before Pilate who, once again, presents him to the thirsty crowd--assuming they will see that Jesus has been punished enough. The crowd, however, is not satisfied. Thus, Pilate washes his hands of the entire dilemma, ordering his men to do as the crowd wishes. Whipped and weakened, Jesus is presented with the cross and is ordered to carry it through the streets of Jerusalem, all the way up to Golgotha. There, more corporal cruelty takes place as Jesus is nailed to the cross--suffering, he hangs there, left to die. Initially, in his dazed suffering, Jesus is alarmed that he has been abandoned by God his father. He then beseeches God. At the moment of his death, nature itself over-turns.\n"
     ]
    }
   ],
   "source": [
    "# a lot of information will be printed!\n",
    "print first_match.summary()"
   ]
  },
  {
   "cell_type": "code",
   "execution_count": 14,
   "metadata": {
    "collapsed": false
   },
   "outputs": [
    {
     "name": "stdout",
     "output_type": "stream",
     "text": [
      "[u'In an interview with Newsweek magazine, Jim Caviezel spoke about a few of the difficulties he experienced while filming. This included being accidentally whipped twice, which has left a 14-inch scar on his back. Caviezel also admitted he was struck by lightning while filming the Sermon on the Mount and during the crucifixion, experienced hypothermia during the dead of winter in Italy.', u'Jim Caviezel experienced a shoulder separation when the 150lb cross dropped on his shoulder. The scene is still in the movie.', u'This film had more pre-ticket sales than any other film in history until Star Wars: The Force Awakens (2015) presales beat it.', u'This is the highest grossing foreign language film and/or subtitled film in US box office history. It is also the highest grossing religious film in worldwide box office of all time.', u'Jim Caviezel required heart surgery after the completion of The Passion, following the extreme stress in the making of this film and the several accidental injuries received.', u\"During the scourging scene, Jim Caviezel accidentally got whipped twice. The first time knocked the wind out of him, and the second time hurt so much it caused him wrench his hand quickly from his shackles, scraping his wrist badly. The remainder of the scourging scenes were finished by using visual effects: the actors playing Roman soldiers held sticks without the leather tails, and acted out the whipping motion, while Caviezel would react as if hit. The tails were later digitally composited into the shots. Make-up wounds on Caviezel's body were digitally covered until the actual hit by the whip, creating the illusion that they suddenly appeared.\", u'According to Mel Gibson, the long shot of Jesus lying in Mary\\'s arms after having been taken from the cross, was greatly inspired by Michelangelo\\'s famous statue \"La Piet\\xe0,\" a work of art that inspired many other depictions of this scene.', u'Rated #1 of the 25 most controversial movies of all time. Entertainment Weekly, 16 June 2006.', u'In one scene while hanging on the Cross, Jim Caviezel can be seen to have a blue colouration of skin. This was not a special effect, but a case of asphyxiation, the cause of death for crucified victims.', u'Because of their experiences during film production, many of the cast and filming crew converted to Catholicism after the completion of the film. Among those who converted was an atheist who played Judas Iscariot.', u\"The name of the Roman soldier who pierced Christ with a spear is Cassius, as we heard Abenader shout his name when giving him a spear. This is a reference to the Catholic tradition that the name of the soldier who pierced Christ's side was Cassius Longinus, who was later believed to convert to Christianity and is venerated in Roman Catholicism as a saint.\", u'This was the highest-grossing rated R film in US box office history earning $370 million until the release of Deadpool.', u'Originally, the second confrontation between Pilate and the Sanhedrin included a line where the Sanhedrin say, \"His blood be on our heads and on the heads of our children!\" Although this line comes from the Gospels, Mel Gibson removed the subtitle of the line to avoid further allegations of the movie having an anti-Semitic message. The actual line in Aramaic was left in the movie.', u'It would usually take over 10 hours to put Jim Caviezel into the scourged makeup. On some of those days, it would happen that the weather conditions turned out to be unsuitable for filming. To avoid spending more hours to have it removed and re-applied the next day, he kept it on and went to bed in full make-up.', u'When this Latin and Aramaic language film was announced, Mel Gibson stated that his intent was to release it without subtitles, letting the performances speak for themselves. However, subtitles were added later. Also, he stated that regardless of the cost of the project, that this would be \"good for the soul\".', u'According to Mel Gibson, Maia Morgenstern, who played Mary, was pregnant during the shoot. She didn\\'t tell anyone, until one day she approached Jim Caviezel (Jesus) and said in broken English and a thick Romanian accent, \"I have baby. In stomach.\"', u'As of 2010, it has not been commercially released in Israel for \"lack of interest\".', u\"According to Caleb Deschanel, the majority of the movie was shot with a speed above the normal 24 frames per second. This created a sense of relative 'slow motion' in most scenes, which gave the performances and events more weight and drama.\", u\"At actual Roman crucifixions, the nails were driven through the wrists and not through the palms as in the film. The structure of the hand is not strong enough to support the weight of the body and the nail would have torn through between the fingers. However, the Christian tradition shows the nails as driven through the palms. In the Bible, the nails were said to be driven into the hands of Jesus. Medically, the hands include the wrists. - Edit: Recent study of ancient crucifixions have revealed that it is likely that the nails were in fact driven through the hands as opposed to the wrists. The hands have a nerve running through the middle of them that would have caused unbelievable amounts of pain when the nail was driven through. To support the body's weight, ropes were tied at the wrists and the elbows to tie them to the crossbeam, then the legs were broken causing the weight of their body to pull on the upper body, eventually resulting in death by slow suffocation.\", u'The film begins without opening credits. The title of the film is stated only in the closing.', u\"The figure of Christ during the crucifixion is actually Jim Caviezel in many scenes. The movie's make-up effects creator/producer Keith VanderLaan also forged an articulated, rubber stand-in for Caviezel that even made breathing motions, who could be suspended on the cross for certain wide shots to allow the actor some physical relief, and for some dangerous shots (such as the turning of the cross).\", u'Jim Caviezel was given a prosthetic nose and a raised hairline. His blue eyes were digitally changed to brown on film.', u'Assistant director Jan Michelini was also hit twice by lightning during filming.', u'Mel Gibson had a Canadian priest, Fr. Stephen Somerville, celebrate the Traditional Roman Catholic Latin Mass of the Apostolic Rite for the film crew each day before production began.', u'Malaysia did not ban the film as is commonly believed. The Malaysian government allowed Christians to the film. Tickets were allowed to be sold only by Christian churches.', u'Banned in Kuwait and Bahrain, for religious reasons (forbidding visual depictions of a prophet, as Jesus is considered a prophet in Islam, not the Son of God).', u'During production the film was originally supposed to be titled simply \"The Passion\". However in October 2003, it was revealed the Miramax studios already had a movie in production with that title. Mel Gibson retitled the film \"The Passion of Christ\". He retitled it yet again a month later in November 2003 to \"The Passion of the Christ\".', u\"A new type of fake blood with added viscosity was developed for Jesus' scourging makeup, which contained red dyes suspended in glycerin, fatty gums and a stabilizing base. It also made Jim Caviezel's skin smell very sweet for numerous days, and had to be rubbed off with alcohol.\", u'In a rarity for Hollywood releases, re-entered the #1 spot at the box office for the weekend of Good Friday, 2004.', u'Maia Morgenstern, who plays Mary (mother of Jesus), is only six years older than Jim Caviezel.', u'Foreseeing damage to box office, its release in Mexico had to be moved one week earlier (from March 25 to March 19) because pirate copies were already available a few days after it premiered in the USA.', u\"Although many Jews consider this film as Anti-Semitic, still there are several Jewish Rabbis who don't agree with this claim. This is because Judaism began only with the completion of Babylonian Talmud in sixth century AD, Judaism is not the religion of the bible, and Jews are different from Hebrews.\", u'The Bible verse from Isaiah 53:5 which appeared in the beginning of the film (\"He was wounded for our transgressions, crushed for our iniquities; by His wounds we are healed\") is abbreviated. Here is the full verse for those who are not familiar with the Bible: \"But He was wounded for our transgressions; He was crushed for our iniquities; upon Him was the chastisement that brought us peace, and with His stripes we are healed.\" (ESV).', u'The first names of actors Hristo Shopov (Pontius Pilate) and Christo Jivkov (Apostle John) are variations of the name Christ.', u'On the first day of general release, Ash Wednesday, Peggy Scott, a 56-year-old advertising sales manager from Wichita, Kansas collapsed of apparent heart failure while watching the crucifixion scene. She later died at the hospital.', u'Was voted the most pro-Catholic film of all time by readers of Faith & Family magazine and the National Catholic Register newspaper. It received more votes from readers than the next three films on the list combined: The Sound of Music (1965), A Man for All Seasons (1966), and The Song of Bernadette (1943).', u'Mel Gibson originally opted to not use a musical score for the film.', u\"Mel Gibson's first writing credit.\", u\"Mel Gibson has stated that he will give $100 million of the film's gross to the Traditional Catholic Movement.\", u'While the characters of the film mostly speak Latin and Aramaic, there are instances where Hebrew was spoken: a) The gathering of the Sanhedrin (Jewish chief Rabbis); b) Simon of Cyrene speaking; and c) The woman who gave water to Jesus on his way to Golgotha.', u\"There are several specifically Catholic influences in the film, such as the prominent role of Jesus' mother Mary; the Stations of the Cross; the floating cross on which Jesus was crucified; and the depiction of Satan.\", u'The line mentioned by Jesus to High Priest Caiaphas and others in this film - \"I AM and you will see the Son of Man seated at the right hand of power and coming on the clouds of heaven.\" comes from Mark 14:62. This is also a reference to Jeremiah 4:13 where it says \"Behold, he (God) shall come up as clouds, and his chariots shall be as a whirlwind: his horses are swifter than eagles. Woe unto us! for we are spoiled.\" This is interesting to note, because Elijah was taken by a chariot of fire in 2 Kings 2:11-12 and Elijah being taken by a chariot is also mentioned by Annas the priest in this film. Right before the destruction of Jerusalem in 70 AD (which was prophesied by Jesus Christ in Matthew 24, Mark 13, and Luke 21), chariots and troops of soldiers in their armor were seen running about among the clouds, and surrounding of cities. This incident was recorded by Josephus in Jewish Wars (Book Six), Tacitus in Histories (Book 5), Eusebius in his Ecclesiastical History (Book 3), and Jewish History Document \"Sepher Yosippon\" (Chapter 87 - Burning of the temple) written in Hebrew. God and his chariots are also mentioned in Isaiah 66:15, 2 Kings 6:17, Zachariah 6:1-6, and other verses in the bible. It must be noted that God is called \"Lord of Hosts\" more than 275 times in the bible. In New Testament, God is called \"Lord of Hosts\" in Romans 9:29 and in James 5:4.', u'In this film, Jesus Christ (Yeshua Meshikha in Aramaic) calls Peter \"Kaypha\" which means stone in Aramaic. The name \"Peter\" comes from Greek name \"petros\" which is the translation of Aramaic word \"Kaypha.\" In New Testament English Bible, Kaypha is written as Cephas in John 1:42, Galatians 2:9, 1 Corinthians 1:12, 1 Corinthians 9:5, and other verses in the Bible.', u'Although some Hebrew words are used in this film, still Hebrew was never the spoken language of first century Israel. According to Dead Sea Scrolls archaeologist, Yigael Yadin, Aramaic was the spoken language of Hebrews until Simon Bar Kokhba tried to revive Hebrew and make it as the official language of Jews during Bar Kokhba revolt (132-135 AD). Yigael Yadin noticed the shift from Aramaic to Hebrew during the time of Bar Kokhba revolt (132-135 AD). In Book \"Bar Kokhba: The rediscovery of the legendary hero of the last Jewish Revolt Against Imperial Rome\" Yigael Yadin notes, \"It is interesting that the earlier documents are written in Aramaic while the later ones are in Hebrew. Possibly the change was made by a special decree of Bar-Kokhba who wanted to restore Hebrew as the official language of the state\"(page 181). In Book \"A Roadmap to the Heavens: An Anthropological Study of Hegemony among Priests, Sages, and Laymen (Judaism and Jewish Life)\" by Sigalit Ben-Zion (Page 155), Yadin said: \"it seems that this change came as a result of the order that was given by Bar Kokhba, who wanted to revive the Hebrew language and make it the official language of the state.\" According to Book \"Naming the Witch: Magic, Ideology, and Stereotype in the Ancient World\" written by Kimberly B. Stratton (p. 232), Yigael Yadin suggests that Bar Kokhba was trying to revive Hebrew by decree as part of his messianic ideology.', u'A year after the film\\'s initial release, a \"toned-down\" version retitled as \"The Passion Recut\" was released. Though some of the more graphic elements were removed, the MPAA still assigned the movie an \"R\" rating - so the version was distributed to theaters as \"unrated\".', u'Aramaic was the most used language spoken by the Hebrews in this film. Aramaic was the language of the Jews in Israel during first century AD. \"Bar\"tholomew, \"Bar\"abbas, \"Bar\"nabbas, \"Bar\" Jesus, Simon \"Bar\" Jonas, \"Bar\"sabbas, and \"Bar\"timaeus are examples of names in the New Testament which use the Aramaic word Bar meaning \\'Son\\' rather than Ben in Hebrew. When Jews say \"Hebrew\" in New Testament, they were referring to their Hebrew tongue which was Aramaic in first century AD. \"Golgotha\" in John 19:17 is a Greek transliteration of an Aramaic word. In Hebrew, Golgotha will become \\'Ha Gulgoleth\\'.', u'In first century AD, Hebrew Priest Josephus points out that Aramaic (the language used in this film) was a widespread language and \"understood accurately\" by Parthians, Babylonians, the remotest Arabians, and those of his nation beyond Euphrates with Adiabeni (Jewish Wars, Preface). Josephus differentiates Hebrew from both his language and the language of the first century Israel which is Aramaic. Josephus calls Hebrew as Hebrew tongue while he calls Aramaic as \"our tongue\" or \"our language\" in both of his works - Jewish Wars and Antiquities of Jews. This is also agreed by Yigael Yadin who points out that Aramaic was the lingua franca of this time period (Source - Yadin\\'s Book \"Bar Kokhba: The rediscovery of the legendary hero of the last Jewish Revolt Against Imperial Rome\" Page 234). Unlike Hebrew Priest Josephus and other Hebrew priests at Jerusalem, the people of first century Israel had no knowledge of Hebrew. That is why whenever the apostles say Hebrew in New testament (John 19:13, John 19:17, etc.), the word comes up is transliteration of an Aramaic word.', u'Rosalinda Celentano lived on a diet of nothing but beans and rice so she would have a malnourished and emaciated appearance', u'Included among the \"1001 Movies You Must See Before You Die\", edited by Steven Schneider.', u'Rumors circulated that James Horner was interested in composing the music for this film. Later on, female composers such as Lisa Gerrard and Rachel Portman were in talks, and Portman did indeed have the job until her pregnancy caused her to bow out gracefully. John Debney took the job in the end.', u'Contrary to this film, Western Christian Traditions believe that Jesus spoke Greek and New Testament was written in Greek. So Western Christianity uses Greek NT manuscripts. But Several Eastern Christian Traditions (in Middle East regions and in South India) believe that Jesus spoke Aramaic and New Testament is written in Aramaic. Not in Greek. So Several Eastern Christian Traditions support the use of Aramaic language in this film and consider Aramaic NT (known as Aramaic Peshitta) as the original text of New Testament.', u'Just like in this film, Aramaic was the spoken language of first century Israel. In first century AD, Hebrew wasn\\'t used as a spoken language at all among Hebrews although Hebrew word \"adonai\" (my lord) and some Hebrew words are mentioned in this film. In Acts 1:19, it says \"And it became known to all the inhabitants of Jerusalem, so that the field was called in their own language Akeldama, that is, Field of Blood.\" \"Akel dama\" is Greek transliteration of Aramaic words \"Khqel Dama.\" \"Field of Blood\" was called \"Khqel Dama\" by all the inhabitants of Jerusalem in their \"own\" language which was Aramaic in first century Israel. If Aramaic words \"Khqel Dama\" are translated into Hebrew, then \"Khqel Dama\" will become \"Shadeh Hadam.\" If Hebrew was used as a spoken language in first century Israel, then \"Shadeh Hadam\" would have been mentioned along with \"Khqel Dama\" (akel dama in Greek NT and English NT) in Acts 1:19. So through this verse (Acts 1:19), it is confirmed that all the inhabitants of Jerusalem spoke in their \"own\" language in first century Israel which was Aramaic.', u'Just like Aramaic spoken by Hebrews in this film, the native language of Abraham and his family was also Aramaic. Abraham lived in Haran (Aramaic speaking region) till the age of 75 when he and his family moved to Canaan (Genesis 12:4-5). The relatives of Abraham in Aramaic speaking regions also spoke Aramaic. For Example, Laban the Aramean called \"Witness heap\" as \"Jegar Sahadutha\" which is Aramaic (Genesis 31:47).', u'The music for the 1st trailer, released in 2003, is from the score Peter Gabriel composed for the movie Rabbit-Proof Fence (2002). The specific track is titled \"Running to the Rain.\"', u'Just like we see in the film, Hebrews (a.k.a Judeans) did not speak Greek in first century Israel. This is confirmed by Hebrew Historian Flavius Josephus who wrote: \"I have also taken a great deal of pains to obtain the learning of the Greeks, and understand the elements of the Greek language, although I have so long accustomed myself to speak our own tongue, that I cannot pronounce Greek with sufficient exactness; for our nation does not encourage those that learn the languages of many nations, and so adorn their discourses with the smoothness of their periods; because they look upon this sort of accomplishment as common, not only to all sorts of free-men, but to as many of the servants as please to learn them. But they give him the testimony of being a wise man who is fully acquainted with our laws, and is able to interpret their meaning; on which account, as there have been many who have done their endeavors with great patience to obtain this learning, there have yet hardly been so many as two or three that have succeeded therein, who were immediately well rewarded for their pains.\" - Antiquities of Jews XX, XI. In Jewish Wars (Book 1, Preface, Paragraph 1), Josephus states this - \"I have proposed to myself, for the sake of such as live under the government of the Romans, to translate those books into the Greek tongue, which I formerly composed in the language of our country, and sent to the Upper Barbarians. Joseph, the son of Matthias, by birth a Hebrew, a priest also, and one who at first fought against the Romans myself, and was forced to be present at what was done afterwards, [am the author of this work].\" In Antiquities of Jews Book 3, Josephus points out that Hebrews called Pentecost \"Asartha.\" Asartha is Aramaic, because Aramaic places Aramaic definite article \"tha\" at the end of a feminine noun in an emphatic state. If \"Asartha\" is translated into Hebrew, then it will become \"Ha Atzeret.\" Unlike Aramaic, Hebrew places the definite article (\"Ha\") at the beginning of a word.', u'The Catholic priest and scholar consulted by director, Mel Gibson, in the depiction of almost every scene, was Father John Bartunek, L.C. He wrote an authorized, behind-the-scenes book about the film called, \"Inside the Passion: An Insider\\'s Look at the Passion of the Christ.\" The Foreword to this book was written by Mel Gibson.', u\"South Park (1997) did an episode featuring the movie as its main focus. The episode title is a spin off of the movie's title, South Park: The Passion of the Jew (2004).\", u'The names of Jim Caviezel and Jesus Christ share the same initials.', u'This was the highest grossing R-rated film at the worldwide box office until it was beaten by Deadpool (2016).', u'Mel Gibson: Gibson\\'s hands nail Christ to the cross during the Crucifixion scene. Gibson said \"It was me that put him on the cross. It was my sins\" that put him there. According to special edition commentaries, Gibson also supplied the foot of Jesus (washed by Mary Magdalene) and the arms that tie Judas\\' suicide rope. His crying, screaming voice is heard during the latter scene.', u'In this film, Jesus Christ asks \"Who are you looking for?\" A Soldier replies \"We are looking for Jesus of Nazareth.\" Jesus Christ says \"I am he.\" The importance of this incident is mentioned in Gospel of John. In Gospel of John 18:4-6 (in Aramaic NT), Jesus Christ says \"I AM\" (ENA NA in Aramaic NT) instead of \"I am he.\" When Jesus Christ said that \"I AM\", they went backward and fell to the ground in John 18:6. This is interesting to note, because the name of God is \"I AM\" which was revealed to Moses in Exodus 3:14.', u'Although Sadducees are not mentioned in this film, still the High Priest and all of his associates (seen in this film) belonged to the sect of Sadducees. This can be read in Acts 5:17. James, a disciple of Jesus Christ (Galatians 1:19) was murdered by High Priest Ananus who belonged to the sect of Sadducees. This was mentioned by Josephus in his \"Antiquities 20.9.1.\"In Matthew 22 & Mark 12, Jesus Christ criticized Sadducees for their lack of the knowledge in the scriptures and the power of God. Sadducees\\' lack of knowledge in the scriptures can be seen in both bible and in this film.When the High Priest asked \"Are you the Christ, the son of Blessed?\" Jesus Christ told the High Priest and his associates with him this - \"Jesus said, \"I am, and you will see the Son of Man seated at the right hand of Power, and coming with the clouds of heaven\" (Mark 14:61-62). When Jesus Christ said this to the High Priest and his associates with him, the High Priest tore his garments (Matthew 26:65, Mark 14:63). When High Priest tore his garments, he violated Leviticus 21:10 which prohibited the High Priest from tearing his clothes. The sect of Sadducees completely disappeared with the destruction of Jerusalem and Jerusalem temple in 70 AD which was prophesied by Jesus Christ (Matthew 24, Mark 13, Luke 21).', u'YA\" is Aramaic form of Hebrew \"YH\" in EHYH (God\\'s name revealed to Moses in Exodus 3:14). This can be seen with the names in New testament. In this film, Judas the traitor (\"Yuda\" in Aramaic where H is silent), John (\"Yochanan\" in Aramaic), and Joseph of Arimathea (\"Yoseph\" in Aramaic). When False Messiah Bar Kokhba revived Hebrew during Bar Kokhba revolt (132-135 AD), the names started changing from Aramaic form (\"YA\") to Hebrew form (\"YH\"). So Yuda (in Aramaic) became Yehuda (in Hebrew), Yochanan (in Aramaic) became Yehochanan (in Hebrew), and Yoseph (in Aramaic) became \"Yehoseph\" (in Hebrew). The names with Aramaic word \"Bar\" (for example, the criminal \"Bar\"abba in this film) was replaced with Hebrew word \"Ben\" during Bar Kokhba revolt (132-135 AD).']\n"
     ]
    }
   ],
   "source": [
    "# retrieve trivia information and print it.\n",
    "i.update(first_match, 'trivia')\n",
    "print first_match['trivia']"
   ]
  },
  {
   "cell_type": "code",
   "execution_count": 15,
   "metadata": {
    "collapsed": false
   },
   "outputs": [
    {
     "ename": "KeyError",
     "evalue": "'quotes'",
     "output_type": "error",
     "traceback": [
      "\u001b[1;31m---------------------------------------------------------------------------\u001b[0m",
      "\u001b[1;31mKeyError\u001b[0m                                  Traceback (most recent call last)",
      "\u001b[1;32m<ipython-input-15-297db2a4a28a>\u001b[0m in \u001b[0;36m<module>\u001b[1;34m()\u001b[0m\n\u001b[0;32m      2\u001b[0m \u001b[0mm\u001b[0m \u001b[1;33m=\u001b[0m \u001b[0mfirst_match\u001b[0m\u001b[1;33m\u001b[0m\u001b[0m\n\u001b[0;32m      3\u001b[0m \u001b[0mi\u001b[0m\u001b[1;33m.\u001b[0m\u001b[0mupdate\u001b[0m\u001b[1;33m(\u001b[0m\u001b[0mm\u001b[0m\u001b[1;33m,\u001b[0m \u001b[1;33m[\u001b[0m\u001b[1;34m'quotes'\u001b[0m\u001b[1;33m,\u001b[0m \u001b[1;34m'goofs'\u001b[0m\u001b[1;33m]\u001b[0m\u001b[1;33m)\u001b[0m\u001b[1;33m\u001b[0m\u001b[0m\n\u001b[1;32m----> 4\u001b[1;33m \u001b[1;32mprint\u001b[0m \u001b[0mm\u001b[0m\u001b[1;33m[\u001b[0m\u001b[1;34m'quotes'\u001b[0m\u001b[1;33m]\u001b[0m\u001b[1;33m\u001b[0m\u001b[0m\n\u001b[0m\u001b[0;32m      5\u001b[0m \u001b[1;32mprint\u001b[0m \u001b[0mm\u001b[0m\u001b[1;33m[\u001b[0m\u001b[1;34m'goofs'\u001b[0m\u001b[1;33m]\u001b[0m\u001b[1;33m\u001b[0m\u001b[0m\n",
      "\u001b[1;32m/home/hao/anaconda/lib/python2.7/site-packages/imdb/utils.pyc\u001b[0m in \u001b[0;36m__getitem__\u001b[1;34m(self, key)\u001b[0m\n\u001b[0;32m   1467\u001b[0m         \u001b[1;31m# Handle key aliases.\u001b[0m\u001b[1;33m\u001b[0m\u001b[1;33m\u001b[0m\u001b[0m\n\u001b[0;32m   1468\u001b[0m         \u001b[0mkey\u001b[0m \u001b[1;33m=\u001b[0m \u001b[0mself\u001b[0m\u001b[1;33m.\u001b[0m\u001b[0mkeys_alias\u001b[0m\u001b[1;33m.\u001b[0m\u001b[0mget\u001b[0m\u001b[1;33m(\u001b[0m\u001b[0mkey\u001b[0m\u001b[1;33m,\u001b[0m \u001b[0mkey\u001b[0m\u001b[1;33m)\u001b[0m\u001b[1;33m\u001b[0m\u001b[0m\n\u001b[1;32m-> 1469\u001b[1;33m         \u001b[0mrawData\u001b[0m \u001b[1;33m=\u001b[0m \u001b[0mself\u001b[0m\u001b[1;33m.\u001b[0m\u001b[0mdata\u001b[0m\u001b[1;33m[\u001b[0m\u001b[0mkey\u001b[0m\u001b[1;33m]\u001b[0m\u001b[1;33m\u001b[0m\u001b[0m\n\u001b[0m\u001b[0;32m   1470\u001b[0m         \u001b[1;32mif\u001b[0m \u001b[0mkey\u001b[0m \u001b[1;32min\u001b[0m \u001b[0mself\u001b[0m\u001b[1;33m.\u001b[0m\u001b[0mkeys_tomodify\u001b[0m \u001b[1;32mand\u001b[0m\u001b[0;31m \u001b[0m\u001b[0;31m\\\u001b[0m\u001b[1;33m\u001b[0m\u001b[0m\n\u001b[0;32m   1471\u001b[0m                 \u001b[0mself\u001b[0m\u001b[1;33m.\u001b[0m\u001b[0mmodFunct\u001b[0m \u001b[1;32mnot\u001b[0m \u001b[1;32min\u001b[0m \u001b[1;33m(\u001b[0m\u001b[0mNone\u001b[0m\u001b[1;33m,\u001b[0m \u001b[0mmodNull\u001b[0m\u001b[1;33m)\u001b[0m\u001b[1;33m:\u001b[0m\u001b[1;33m\u001b[0m\u001b[0m\n",
      "\u001b[1;31mKeyError\u001b[0m: 'quotes'"
     ]
    }
   ],
   "source": [
    "# retrieve both 'quotes' and 'goofs' information (with a list or tuple)\n",
    "m = first_match\n",
    "i.update(m, ['quotes', 'goofs'])\n",
    "print m['quotes']\n",
    "print m['goofs']"
   ]
  },
  {
   "cell_type": "code",
   "execution_count": null,
   "metadata": {
    "collapsed": true
   },
   "outputs": [],
   "source": [
    "# retrieve every available information.\n",
    "i.update(m, 'all')"
   ]
  }
 ],
 "metadata": {
  "kernelspec": {
   "display_name": "Python 2",
   "language": "python",
   "name": "python2"
  },
  "language_info": {
   "codemirror_mode": {
    "name": "ipython",
    "version": 2
   },
   "file_extension": ".py",
   "mimetype": "text/x-python",
   "name": "python",
   "nbconvert_exporter": "python",
   "pygments_lexer": "ipython2",
   "version": "2.7.11"
  }
 },
 "nbformat": 4,
 "nbformat_minor": 0
}
